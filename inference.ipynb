{
 "cells": [
  {
   "cell_type": "markdown",
   "metadata": {},
   "source": [
    "# Project D - Severstal Steel Defect Detection Kaggle Competition \n",
    "## Semantic Segmentation of steel defects\n",
    "### Authors: Utkrisht Rajkumar, Subrato Chakravorty, Chi-Hsin Lo\n",
    "\n",
    "This is the file used to load the different trained models and perform inference.\n",
    "\n",
    "Dice score for each model when submitted to Kaggle:\n",
    "* Deeplab: 0.14957 \n",
    "* U-Net: 0.85800\n",
    "* U-Net with residual encoder: 0.86278\n",
    "* U-Net with inverted residual encoder: 0.62522"
   ]
  },
  {
   "cell_type": "code",
   "execution_count": 7,
   "metadata": {},
   "outputs": [],
   "source": [
    "import os\n",
    "import json\n",
    "import gc\n",
    "import cv2\n",
    "import keras\n",
    "from keras.models import load_model\n",
    "import tensorflow as tf\n",
    "import matplotlib.pyplot as plt\n",
    "import numpy as np\n",
    "import pandas as pd\n",
    "from data_gen import DataGenerator\n",
    "import sys\n",
    "from tqdm import tqdm\n",
    "from utils import build_rles"
   ]
  },
  {
   "cell_type": "code",
   "execution_count": 3,
   "metadata": {},
   "outputs": [],
   "source": [
    "from utils import dice_coef, bce_dice, post_process\n",
    "from model import relu6\n",
    "model_path = './models/unet.h5'\n",
    "cb={'bce_dice': bce_dice, 'dice_coef': dice_coef, 'relu6':relu6, 'tf':tf}\n",
    "unet = load_model(model_path, custom_objects=cb)\n",
    "\n",
    "model_path = './models/unet_res.h5'\n",
    "unet_res = load_model(model_path, custom_objects=cb)\n",
    "\n",
    "model_path = './models/unet_invres.h5'\n",
    "unet_invres = load_model(model_path, custom_objects=cb)\n",
    "model_path = './models/deeplabv1.h5'\n",
    "deeplab = load_model(model_path, custom_objects=cb)"
   ]
  },
  {
   "cell_type": "code",
   "execution_count": 4,
   "metadata": {},
   "outputs": [],
   "source": [
    "root_dir = '../input/'\n",
    "models = [unet, unet_res, unet_invres, deeplab]\n",
    "names = ['unet', 'unet_res', 'unet_invres', 'deeplab']"
   ]
  },
  {
   "cell_type": "markdown",
   "metadata": {},
   "source": [
    "### Load trained model"
   ]
  },
  {
   "cell_type": "code",
   "execution_count": 5,
   "metadata": {},
   "outputs": [],
   "source": [
    "BATCH_SIZE = 64\n",
    "sample_path = root_dir + 'sample_submission.csv'\n",
    "sub_df = pd.read_csv(sample_path)\n",
    "sub_df['ImageId'] = sub_df['ImageId_ClassId'].apply(lambda x: x.split('_')[0])\n",
    "test_imgs = pd.DataFrame(sub_df['ImageId'].unique(), columns=['ImageId'])"
   ]
  },
  {
   "cell_type": "markdown",
   "metadata": {},
   "source": [
    "### Predict on test images"
   ]
  },
  {
   "cell_type": "code",
   "execution_count": null,
   "metadata": {},
   "outputs": [],
   "source": [
    "for model,name in zip(models, names):\n",
    "    test_df = []\n",
    "    print(model, name)\n",
    "    for i in range(0, test_imgs.shape[0], 300):\n",
    "        batch_idx = list(range(i, min(test_imgs.shape[0], i + 300)))\n",
    "        test_generator = DataGenerator(batch_idx, df=test_imgs, shuffle=False,mode='predict',base_path='../input/test_images',\n",
    "            target_df=sub_df, batch_size=1, n_classes=4)\n",
    "        batch_pred_masks = model.predict_generator(test_generator, workers=1, use_multiprocessing=False)\n",
    "\n",
    "        for j, b in tqdm(enumerate(batch_idx)):\n",
    "            filename = test_imgs['ImageId'].iloc[b]\n",
    "            image_df = sub_df[sub_df['ImageId'] == filename].copy()\n",
    "\n",
    "            pred_masks = batch_pred_masks[j, ].round().astype(int)\n",
    "            pred_rles = build_rles(pred_masks)\n",
    "\n",
    "            image_df['EncodedPixels'] = pred_rles\n",
    "            test_df.append(image_df)\n",
    "        gc.collect()\n",
    "    path = './submissions/' + name + '.csv'\n",
    "    test_df = pd.concat(test_df)\n",
    "    test_df[['ImageId_ClassId', 'EncodedPixels']].to_csv(path, index=False)"
   ]
  }
 ],
 "metadata": {
  "kernelspec": {
   "display_name": "Python 3",
   "language": "python",
   "name": "python3"
  },
  "language_info": {
   "codemirror_mode": {
    "name": "ipython",
    "version": 3
   },
   "file_extension": ".py",
   "mimetype": "text/x-python",
   "name": "python",
   "nbconvert_exporter": "python",
   "pygments_lexer": "ipython3",
   "version": "3.7.3"
  }
 },
 "nbformat": 4,
 "nbformat_minor": 2
}
